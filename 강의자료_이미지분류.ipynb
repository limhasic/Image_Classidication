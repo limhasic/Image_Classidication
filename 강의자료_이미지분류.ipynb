{
  "nbformat": 4,
  "nbformat_minor": 0,
  "metadata": {
    "colab": {
      "provenance": [],
      "collapsed_sections": [],
      "authorship_tag": "ABX9TyMQygAsozEUU+2G5cdpb6wg",
      "include_colab_link": true
    },
    "kernelspec": {
      "name": "python3",
      "display_name": "Python 3"
    },
    "language_info": {
      "name": "python"
    }
  },
  "cells": [
    {
      "cell_type": "markdown",
      "metadata": {
        "id": "view-in-github",
        "colab_type": "text"
      },
      "source": [
        "<a href=\"https://colab.research.google.com/github/limhasic/Image_Classidication/blob/main/%EA%B0%95%EC%9D%98%EC%9E%90%EB%A3%8C_%EC%9D%B4%EB%AF%B8%EC%A7%80%EB%B6%84%EB%A5%98.ipynb\" target=\"_parent\"><img src=\"https://colab.research.google.com/assets/colab-badge.svg\" alt=\"Open In Colab\"/></a>"
      ]
    },
    {
      "cell_type": "markdown",
      "source": [],
      "metadata": {
        "id": "fHuhEK5VoIm3"
      }
    },
    {
      "cell_type": "markdown",
      "source": [
        "# **목표 : 이미지 분류 모델을 통한 특정 사물 구분**\n",
        "\n",
        "* 1. 이미지 분류  \n",
        "    1.1 이미지 분류란?  \n",
        "    1.2 이미지 분류 모델이란?   \n",
        "    1.3 이미지 분류 모델 구성요소  \n",
        "* 2. 데이터 불러오기  \n",
        "    2.1 Kaggle 이란?    \n",
        "    2.2 Kaggle 데이터 불러오기\n",
        "* 3. 데이터 EDA  \n",
        "    3.1 Kaggle 데이터 EDA  \n",
        "* 4. 이미지 분류 모델 구축  \n",
        "    4.1 이미지 분류 모델 구축\n",
        "* 5. 미정\n"
      ],
      "metadata": {
        "id": "spOaS5XV8LJO"
      }
    },
    {
      "cell_type": "markdown",
      "source": [
        "# "
      ],
      "metadata": {
        "id": "hfGGUr8JomWT"
      }
    },
    {
      "cell_type": "markdown",
      "source": [
        "<img src = \"http://aikorea.org/cs231n/assets/classify.png\" align=\"center\" height = 500 width = 1000 >"
      ],
      "metadata": {
        "id": "d1xWM04D8M6v"
      }
    },
    {
      "cell_type": "markdown",
      "source": [],
      "metadata": {
        "id": "6yE93_qu8NwL"
      }
    },
    {
      "cell_type": "markdown",
      "source": [],
      "metadata": {
        "id": "g9yzLvbV8NyK"
      }
    },
    {
      "cell_type": "markdown",
      "source": [],
      "metadata": {
        "id": "GhfuXl3L8N1J"
      }
    },
    {
      "cell_type": "code",
      "source": [
        "# 준비물 확인\n",
        "# Tensorflow 라이브러리 \n",
        "# 텐서플로우 라이브러리 같은 경우, \n",
        "import tensorflow as tf"
      ],
      "metadata": {
        "id": "hINaKYHT4-_G"
      },
      "execution_count": 1,
      "outputs": []
    },
    {
      "cell_type": "code",
      "source": [],
      "metadata": {
        "id": "wLBuv9_84_Bv"
      },
      "execution_count": null,
      "outputs": []
    },
    {
      "cell_type": "code",
      "source": [],
      "metadata": {
        "id": "Rakr-nGT4_Dp"
      },
      "execution_count": null,
      "outputs": []
    },
    {
      "cell_type": "code",
      "source": [],
      "metadata": {
        "id": "6uyDoH9J4_Ih"
      },
      "execution_count": null,
      "outputs": []
    },
    {
      "cell_type": "code",
      "source": [],
      "metadata": {
        "id": "rrSH0Pbm4_OF"
      },
      "execution_count": null,
      "outputs": []
    },
    {
      "cell_type": "code",
      "source": [],
      "metadata": {
        "id": "m6uLkXee4_Pq"
      },
      "execution_count": null,
      "outputs": []
    }
  ]
}